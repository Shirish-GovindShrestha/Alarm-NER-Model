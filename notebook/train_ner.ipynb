{
 "cells": [
  {
   "cell_type": "code",
   "execution_count": 19,
   "id": "11fbb5c7",
   "metadata": {},
   "outputs": [
    {
     "name": "stdout",
     "output_type": "stream",
     "text": [
      "DatasetDict({\n",
      "    train: Dataset({\n",
      "        features: ['tokens', 'labels'],\n",
      "        num_rows: 25250\n",
      "    })\n",
      "    test: Dataset({\n",
      "        features: ['tokens', 'labels'],\n",
      "        num_rows: 2806\n",
      "    })\n",
      "})\n",
      "Train examples: 25250\n",
      "Test examples: 2806\n"
     ]
    }
   ],
   "source": [
    "import pandas as pd\n",
    "from datasets import Dataset\n",
    "\n",
    "# Load Excel\n",
    "df1 = pd.read_excel(\"../data/alarm_ner_dataset_balanced_20000 (2).xlsx\")\n",
    "df2 = pd.read_excel(\"../data/alarm_ner_dataset_balanced_20000 (1).xlsx\")\n",
    "\n",
    "\n",
    "df = pd.concat([df1,df2], ignore_index=True)\n",
    "\n",
    "df = df.drop_duplicates().reset_index(drop=True)\n",
    "\n",
    "# Convert string representation of lists to actual lists\n",
    "df[\"tokens\"] = df[\"Tokens\"].apply(eval)\n",
    "df[\"ner_tags\"] = df[\"NER Tags\"].apply(eval)\n",
    "\n",
    "# Keep only rows where token and tag lengths match\n",
    "df = df[df[\"tokens\"].str.len() == df[\"ner_tags\"].str.len()].reset_index(drop=True)\n",
    "\n",
    "# Remove sequences where all tags are \"O\"\n",
    "df = df[df[\"ner_tags\"].apply(lambda tags: any(t != \"O\" for t in tags))].reset_index(drop=True)\n",
    "\n",
    "# Create tag2id and id2tag mapping\n",
    "unique_tags = sorted({t for tags in df[\"ner_tags\"] for t in tags})\n",
    "tag2id = {t:i for i,t in enumerate(unique_tags)}\n",
    "id2tag = {i:t for t,i in tag2id.items()}\n",
    "\n",
    "# Convert tags to label IDs\n",
    "df[\"labels\"] = df[\"ner_tags\"].apply(lambda tags: [tag2id[t] for t in tags])\n",
    "\n",
    "# Convert to Hugging Face Dataset and split\n",
    "dataset = Dataset.from_pandas(df[[\"tokens\",\"labels\"]]).train_test_split(test_size=0.1, seed=12)\n",
    "\n",
    "print(dataset)\n",
    "print(\"Train examples:\", len(dataset['train']))\n",
    "print(\"Test examples:\", len(dataset['test']))\n"
   ]
  },
  {
   "cell_type": "code",
   "execution_count": 20,
   "id": "de77f3a4",
   "metadata": {},
   "outputs": [],
   "source": [
    "import torch\n"
   ]
  },
  {
   "cell_type": "code",
   "execution_count": 21,
   "id": "4665c58a",
   "metadata": {},
   "outputs": [
    {
     "data": {
      "application/vnd.jupyter.widget-view+json": {
       "model_id": "c4273eb59274426284a90ae2ca409fbe",
       "version_major": 2,
       "version_minor": 0
      },
      "text/plain": [
       "Map:   0%|          | 0/25250 [00:00<?, ? examples/s]"
      ]
     },
     "metadata": {},
     "output_type": "display_data"
    },
    {
     "data": {
      "application/vnd.jupyter.widget-view+json": {
       "model_id": "f674ef81aea04c0ea2909b191094edb9",
       "version_major": 2,
       "version_minor": 0
      },
      "text/plain": [
       "Map:   0%|          | 0/2806 [00:00<?, ? examples/s]"
      ]
     },
     "metadata": {},
     "output_type": "display_data"
    }
   ],
   "source": [
    "from transformers import AutoTokenizer\n",
    "model_name = \"huawei-noah/TinyBERT_General_4L_312D\"\n",
    "\n",
    "tokenizer = AutoTokenizer.from_pretrained(model_name, use_fast=True)\n",
    "\n",
    "def tokenize_and_align_labels(example):\n",
    "    tokenized_inputs = tokenizer(\n",
    "        example[\"tokens\"],\n",
    "        truncation=True,\n",
    "        is_split_into_words=True,\n",
    "        max_length=128\n",
    "    )\n",
    "\n",
    "    word_ids = tokenized_inputs.word_ids()  # Map tokens to original words\n",
    "    previous_word_idx = None\n",
    "    label_ids = []\n",
    "\n",
    "    for word_idx in word_ids:\n",
    "        if word_idx is None:\n",
    "            label_ids.append(-100)  # Special token\n",
    "        elif word_idx != previous_word_idx:\n",
    "            label_ids.append(example[\"labels\"][word_idx])\n",
    "        else:\n",
    "            # Subsequent subword token\n",
    "            current_label = example[\"labels\"][word_idx]\n",
    "            # Convert B- to I- if using BIO scheme\n",
    "            if current_label < len(tag2id):  # numeric label\n",
    "                # Only needed if your labels are strings, else keep numeric\n",
    "                label_ids.append(current_label)\n",
    "            else:\n",
    "                label_ids.append(current_label)\n",
    "        previous_word_idx = word_idx\n",
    "\n",
    "    tokenized_inputs[\"labels\"] = label_ids\n",
    "    return tokenized_inputs\n",
    "\n",
    "\n",
    "# Apply the function\n",
    "tokenized_dataset = dataset.map(tokenize_and_align_labels, batched=False)\n"
   ]
  },
  {
   "cell_type": "code",
   "execution_count": 22,
   "id": "f77c2235",
   "metadata": {},
   "outputs": [
    {
     "name": "stderr",
     "output_type": "stream",
     "text": [
      "Some weights of BertForTokenClassification were not initialized from the model checkpoint at huawei-noah/TinyBERT_General_4L_312D and are newly initialized: ['classifier.bias', 'classifier.weight']\n",
      "You should probably TRAIN this model on a down-stream task to be able to use it for predictions and inference.\n"
     ]
    }
   ],
   "source": [
    "from transformers import AutoConfig, AutoModelForTokenClassification\n",
    "\n",
    "# Configure model with dropout\n",
    "config = AutoConfig.from_pretrained(\n",
    "    model_name,\n",
    "    num_labels=len(tag2id),\n",
    "    id2label=id2tag,\n",
    "    label2id=tag2id,\n",
    ")\n",
    "\n",
    "\n",
    "# Load model with this config\n",
    "model = AutoModelForTokenClassification.from_pretrained(\n",
    "    model_name,\n",
    "    config=config\n",
    ")\n"
   ]
  },
  {
   "cell_type": "code",
   "execution_count": 23,
   "id": "574b5a6f",
   "metadata": {},
   "outputs": [
    {
     "data": {
      "text/plain": [
       "{'tokens': ['switch', 'evening', 'study', 'tim'],\n",
       " 'labels': [-100, 8, 3, 1, 5, -100],\n",
       " 'input_ids': [101, 6942, 3944, 2817, 5199, 102],\n",
       " 'token_type_ids': [0, 0, 0, 0, 0, 0],\n",
       " 'attention_mask': [1, 1, 1, 1, 1, 1]}"
      ]
     },
     "execution_count": 23,
     "metadata": {},
     "output_type": "execute_result"
    }
   ],
   "source": [
    "tokenized_dataset['train'][0]\n"
   ]
  },
  {
   "cell_type": "code",
   "execution_count": 24,
   "id": "4f33ca6e",
   "metadata": {},
   "outputs": [
    {
     "data": {
      "text/plain": [
       "{0: 'B-date',\n",
       " 1: 'B-label',\n",
       " 2: 'B-repeat',\n",
       " 3: 'B-time',\n",
       " 4: 'I-date',\n",
       " 5: 'I-label',\n",
       " 6: 'I-repeat',\n",
       " 7: 'I-time',\n",
       " 8: 'O'}"
      ]
     },
     "execution_count": 24,
     "metadata": {},
     "output_type": "execute_result"
    }
   ],
   "source": [
    "id2tag"
   ]
  },
  {
   "cell_type": "code",
   "execution_count": 25,
   "id": "335f83ee",
   "metadata": {},
   "outputs": [
    {
     "data": {
      "text/plain": [
       "BertForTokenClassification(\n",
       "  (bert): BertModel(\n",
       "    (embeddings): BertEmbeddings(\n",
       "      (word_embeddings): Embedding(30522, 312, padding_idx=0)\n",
       "      (position_embeddings): Embedding(512, 312)\n",
       "      (token_type_embeddings): Embedding(2, 312)\n",
       "      (LayerNorm): LayerNorm((312,), eps=1e-12, elementwise_affine=True)\n",
       "      (dropout): Dropout(p=0.1, inplace=False)\n",
       "    )\n",
       "    (encoder): BertEncoder(\n",
       "      (layer): ModuleList(\n",
       "        (0-3): 4 x BertLayer(\n",
       "          (attention): BertAttention(\n",
       "            (self): BertSdpaSelfAttention(\n",
       "              (query): Linear(in_features=312, out_features=312, bias=True)\n",
       "              (key): Linear(in_features=312, out_features=312, bias=True)\n",
       "              (value): Linear(in_features=312, out_features=312, bias=True)\n",
       "              (dropout): Dropout(p=0.1, inplace=False)\n",
       "            )\n",
       "            (output): BertSelfOutput(\n",
       "              (dense): Linear(in_features=312, out_features=312, bias=True)\n",
       "              (LayerNorm): LayerNorm((312,), eps=1e-12, elementwise_affine=True)\n",
       "              (dropout): Dropout(p=0.1, inplace=False)\n",
       "            )\n",
       "          )\n",
       "          (intermediate): BertIntermediate(\n",
       "            (dense): Linear(in_features=312, out_features=1200, bias=True)\n",
       "            (intermediate_act_fn): GELUActivation()\n",
       "          )\n",
       "          (output): BertOutput(\n",
       "            (dense): Linear(in_features=1200, out_features=312, bias=True)\n",
       "            (LayerNorm): LayerNorm((312,), eps=1e-12, elementwise_affine=True)\n",
       "            (dropout): Dropout(p=0.1, inplace=False)\n",
       "          )\n",
       "        )\n",
       "      )\n",
       "    )\n",
       "  )\n",
       "  (dropout): Dropout(p=0.1, inplace=False)\n",
       "  (classifier): Linear(in_features=312, out_features=9, bias=True)\n",
       ")"
      ]
     },
     "execution_count": 25,
     "metadata": {},
     "output_type": "execute_result"
    }
   ],
   "source": [
    "device = torch.device(\"cuda\" if torch.cuda.is_available() else \"cpu\")\n",
    "model.to(device)"
   ]
  },
  {
   "cell_type": "code",
   "execution_count": 26,
   "id": "e3428510",
   "metadata": {},
   "outputs": [],
   "source": [
    "from sklearn.metrics import precision_score, recall_score, f1_score\n",
    "from collections import Counter\n",
    "import numpy as np\n",
    "\n",
    "import pandas as pd\n",
    "\n",
    "history = {}  # history[entity] = {\"precision\": [], \"recall\": []}\n",
    "\n",
    "def compute_metrics(eval_pred):\n",
    "    global history\n",
    "    \n",
    "    logits = eval_pred.predictions\n",
    "    labels = eval_pred.label_ids\n",
    "    predictions = np.argmax(logits, axis=2)\n",
    "\n",
    "    true_labels, pred_labels = [], []\n",
    "    for pred_seq, label_seq in zip(predictions, labels):\n",
    "        for pred, label in zip(pred_seq, label_seq):\n",
    "            if label != -100:\n",
    "                true_labels.append(label)\n",
    "                pred_labels.append(pred)\n",
    "\n",
    "    true_tags = [id2tag[l] for l in true_labels]\n",
    "    pred_tags = [id2tag[p] for p in pred_labels]\n",
    "\n",
    "    from collections import Counter\n",
    "    counter = Counter(zip(true_tags, pred_tags))\n",
    "    entity_types = set(true_tags) | set(pred_tags)\n",
    "\n",
    "    report = {}\n",
    "    for entity in entity_types:\n",
    "        tp = counter.get((entity, entity), 0)\n",
    "        fp = sum(counter.get((other, entity), 0) for other in entity_types if other != entity)\n",
    "        fn = sum(counter.get((entity, other), 0) for other in entity_types if other != entity)\n",
    "\n",
    "        precision = tp / (tp + fp) if tp + fp > 0 else 0\n",
    "        recall = tp / (tp + fn) if tp + fn > 0 else 0\n",
    "        f1 = 2 * precision * recall / (precision + recall) if precision + recall > 0 else 0\n",
    "\n",
    "        report[entity] = {\"precision\": precision, \"recall\": recall, \"f1\": f1, \"support\": tp + fn}\n",
    "\n",
    "        # Store metrics in history\n",
    "        if entity not in history:\n",
    "            history[entity] = {\"precision\": [], \"recall\": []}\n",
    "        history[entity][\"precision\"].append(precision)\n",
    "        history[entity][\"recall\"].append(recall)\n",
    "\n",
    "    # Macro F1 ignoring 'O'\n",
    "    macro_f1 = np.mean([report[e]['f1'] for e in entity_types if e != \"O\"])\n",
    "\n",
    "    # Optional: print per-class metrics\n",
    "    df = pd.DataFrame(report).T.round(4)\n",
    "    print(\"\\nPer-class metrics:\\n\", df.to_string(), \"\\n\")\n",
    "\n",
    "    return {\"f1\": macro_f1, \"macro_f1\": macro_f1}\n"
   ]
  },
  {
   "cell_type": "code",
   "execution_count": 27,
   "id": "0c362928",
   "metadata": {},
   "outputs": [
    {
     "name": "stderr",
     "output_type": "stream",
     "text": [
      "C:\\Users\\victus\\AppData\\Local\\Temp\\ipykernel_9652\\535452104.py:27: FutureWarning: `tokenizer` is deprecated and will be removed in version 5.0.0 for `Trainer.__init__`. Use `processing_class` instead.\n",
      "  trainer = Trainer(\n"
     ]
    }
   ],
   "source": [
    "from transformers import TrainingArguments, Trainer, DataCollatorForTokenClassification\n",
    "\n",
    "\n",
    "args = TrainingArguments(\n",
    "    output_dir=\"./NER_bert_model\",\n",
    "    eval_strategy=\"epoch\",         \n",
    "    learning_rate=2e-5,                   # Slightly higher LR often better for fine-tuning (tune as needed)\n",
    "    per_device_train_batch_size=16,      \n",
    "    per_device_eval_batch_size=8,\n",
    "    num_train_epochs=3,                   # More epochs usually help, unless overfitting\n",
    "    weight_decay=0.01,\n",
    "    save_strategy=\"epoch\",                # Save at end of each epoch\n",
    "    save_total_limit=2,                   # Keep last 2 checkpoints for safety\n",
    "    load_best_model_at_end=True,          # Load best checkpoint automatically\n",
    "    metric_for_best_model=\"macro_f1\",     # Select best checkpoint by F1 score\n",
    "    greater_is_better=True,\n",
    "    warmup_ratio=0.1,                 \n",
    "    logging_dir=\"./logs\",\n",
    "    logging_strategy=\"epoch\",                             \n",
    "    gradient_accumulation_steps=2,       \n",
    "    fp16=True                            # Mixed precision training for speed if supported by GPU\n",
    ")\n",
    "\n",
    "\n",
    "data_collator = DataCollatorForTokenClassification(tokenizer=tokenizer)\n",
    "\n",
    "trainer = Trainer(\n",
    "    model=model,\n",
    "    args=args,\n",
    "    train_dataset=tokenized_dataset[\"train\"],\n",
    "    eval_dataset=tokenized_dataset[\"test\"],\n",
    "    tokenizer=tokenizer,\n",
    "    data_collator=data_collator,\n",
    "    compute_metrics=compute_metrics\n",
    ")\n"
   ]
  },
  {
   "cell_type": "code",
   "execution_count": 28,
   "id": "211bbf3f",
   "metadata": {},
   "outputs": [
    {
     "name": "stderr",
     "output_type": "stream",
     "text": [
      "g:\\model\\alarmenv\\Lib\\site-packages\\torch\\nn\\modules\\module.py:1762: FutureWarning: `encoder_attention_mask` is deprecated and will be removed in version 4.55.0 for `BertSdpaSelfAttention.forward`.\n",
      "  return forward_call(*args, **kwargs)\n"
     ]
    },
    {
     "data": {
      "text/html": [
       "\n",
       "    <div>\n",
       "      \n",
       "      <progress value='2370' max='2370' style='width:300px; height:20px; vertical-align: middle;'></progress>\n",
       "      [2370/2370 01:43, Epoch 3/3]\n",
       "    </div>\n",
       "    <table border=\"1\" class=\"dataframe\">\n",
       "  <thead>\n",
       " <tr style=\"text-align: left;\">\n",
       "      <th>Epoch</th>\n",
       "      <th>Training Loss</th>\n",
       "      <th>Validation Loss</th>\n",
       "      <th>F1</th>\n",
       "      <th>Macro F1</th>\n",
       "    </tr>\n",
       "  </thead>\n",
       "  <tbody>\n",
       "    <tr>\n",
       "      <td>1</td>\n",
       "      <td>0.702500</td>\n",
       "      <td>0.140210</td>\n",
       "      <td>0.970063</td>\n",
       "      <td>0.970063</td>\n",
       "    </tr>\n",
       "    <tr>\n",
       "      <td>2</td>\n",
       "      <td>0.128500</td>\n",
       "      <td>0.067381</td>\n",
       "      <td>0.984799</td>\n",
       "      <td>0.984799</td>\n",
       "    </tr>\n",
       "    <tr>\n",
       "      <td>3</td>\n",
       "      <td>0.079800</td>\n",
       "      <td>0.053492</td>\n",
       "      <td>0.987129</td>\n",
       "      <td>0.987129</td>\n",
       "    </tr>\n",
       "  </tbody>\n",
       "</table><p>"
      ],
      "text/plain": [
       "<IPython.core.display.HTML object>"
      ]
     },
     "metadata": {},
     "output_type": "display_data"
    },
    {
     "name": "stdout",
     "output_type": "stream",
     "text": [
      "\n",
      "Per-class metrics:\n",
      "           precision  recall      f1  support\n",
      "B-label      0.9826  0.9725  0.9775   2149.0\n",
      "I-time       0.9921  0.9937  0.9929   3178.0\n",
      "O            0.9923  0.9970  0.9946   6431.0\n",
      "B-repeat     0.9509  0.9869  0.9686    766.0\n",
      "I-date       0.9335  0.9396  0.9366    613.0\n",
      "B-date       0.9706  0.8996  0.9338    807.0\n",
      "I-repeat     0.9819  0.9920  0.9869    874.0\n",
      "I-label      0.9846  0.9880  0.9863   2328.0\n",
      "B-time       0.9791  0.9767  0.9779   2015.0 \n",
      "\n"
     ]
    },
    {
     "name": "stderr",
     "output_type": "stream",
     "text": [
      "g:\\model\\alarmenv\\Lib\\site-packages\\torch\\nn\\modules\\module.py:1762: FutureWarning: `encoder_attention_mask` is deprecated and will be removed in version 4.55.0 for `BertSdpaSelfAttention.forward`.\n",
      "  return forward_call(*args, **kwargs)\n"
     ]
    },
    {
     "name": "stdout",
     "output_type": "stream",
     "text": [
      "\n",
      "Per-class metrics:\n",
      "           precision  recall      f1  support\n",
      "B-label      0.9884  0.9874  0.9879   2149.0\n",
      "I-time       0.9944  0.9981  0.9962   3178.0\n",
      "O            0.9966  0.9989  0.9977   6431.0\n",
      "B-repeat     0.9718  0.9896  0.9806    766.0\n",
      "I-date       0.9571  0.9821  0.9694    613.0\n",
      "B-date       0.9909  0.9418  0.9657    807.0\n",
      "I-repeat     0.9977  0.9966  0.9971    874.0\n",
      "I-label      0.9915  0.9974  0.9944   2328.0\n",
      "B-time       0.9940  0.9801  0.9870   2015.0 \n",
      "\n"
     ]
    },
    {
     "name": "stderr",
     "output_type": "stream",
     "text": [
      "g:\\model\\alarmenv\\Lib\\site-packages\\torch\\nn\\modules\\module.py:1762: FutureWarning: `encoder_attention_mask` is deprecated and will be removed in version 4.55.0 for `BertSdpaSelfAttention.forward`.\n",
      "  return forward_call(*args, **kwargs)\n"
     ]
    },
    {
     "name": "stdout",
     "output_type": "stream",
     "text": [
      "\n",
      "Per-class metrics:\n",
      "           precision  recall      f1  support\n",
      "B-label      0.9916  0.9874  0.9895   2149.0\n",
      "I-time       0.9962  0.9972  0.9967   3178.0\n",
      "O            0.9974  0.9991  0.9982   6431.0\n",
      "B-repeat     0.9669  0.9909  0.9787    766.0\n",
      "I-date       0.9711  0.9853  0.9781    613.0\n",
      "B-date       0.9872  0.9591  0.9730    807.0\n",
      "I-repeat     0.9954  0.9966  0.9960    874.0\n",
      "I-label      0.9940  0.9974  0.9957   2328.0\n",
      "B-time       0.9940  0.9846  0.9893   2015.0 \n",
      "\n"
     ]
    },
    {
     "data": {
      "text/plain": [
       "TrainOutput(global_step=2370, training_loss=0.3036012174710946, metrics={'train_runtime': 103.9016, 'train_samples_per_second': 729.055, 'train_steps_per_second': 22.81, 'total_flos': 32149957546404.0, 'train_loss': 0.3036012174710946, 'epoch': 3.0})"
      ]
     },
     "execution_count": 28,
     "metadata": {},
     "output_type": "execute_result"
    }
   ],
   "source": [
    "trainer.train()\n"
   ]
  },
  {
   "cell_type": "code",
   "execution_count": 31,
   "id": "aede14ea",
   "metadata": {},
   "outputs": [],
   "source": [
    "import torch\n",
    "import string\n",
    "\n",
    "def predict_ner_bert(text):\n",
    "    # Encode with offsets for alignment\n",
    "    text = text.split()  # Split into words for is_split_into_words=True\n",
    "    encodings = tokenizer(\n",
    "        text,\n",
    "        return_tensors=\"pt\",\n",
    "        truncation=True,\n",
    "        max_length=128,\n",
    "        return_offsets_mapping=True,\n",
    "        is_split_into_words=True\n",
    "    )\n",
    "    inputs = {k: v.to(model.device) for k, v in encodings.items() if k != \"offset_mapping\"}\n",
    "\n",
    "    with torch.no_grad():\n",
    "        logits = model(**inputs).logits\n",
    "        pred_ids = torch.argmax(logits, dim=2)[0].cpu().tolist()\n",
    "\n",
    "    tokens = tokenizer.convert_ids_to_tokens(encodings['input_ids'][0])\n",
    "    offsets = encodings['offset_mapping'][0].tolist()\n",
    "\n",
    "    merged_tokens = []\n",
    "    merged_tags = []\n",
    "\n",
    "    prev_tag_type = None\n",
    "\n",
    "    for token, (start, end), tag_id in zip(tokens, offsets, pred_ids):\n",
    "        # Skip special tokens\n",
    "        if token in tokenizer.all_special_tokens:\n",
    "            continue\n",
    "\n",
    "        tag = id2tag[tag_id]\n",
    "\n",
    "        # Fix consecutive B- of same type → convert to I-\n",
    "        if tag.startswith(\"B-\") and tag[2:] == prev_tag_type:\n",
    "            tag = \"I-\" + tag[2:]\n",
    "\n",
    "        # Fix I- without preceding B-\n",
    "        if tag.startswith(\"I-\") and prev_tag_type != tag[2:]:\n",
    "            tag = \"B-\" + tag[2:]\n",
    "\n",
    "        # Merge subwords correctly\n",
    "        if token.startswith(\"##\"):\n",
    "            # Append subword to previous token\n",
    "            merged_tokens[-1] += token[2:]\n",
    "            # Keep the previous tag for merged token\n",
    "            # merged_tags[-1] stays unchanged\n",
    "        else:\n",
    "            merged_tokens.append(token)\n",
    "            merged_tags.append(tag)\n",
    "\n",
    "        if tag != \"O\":\n",
    "            prev_tag_type = tag[2:]\n",
    "        else:\n",
    "            prev_tag_type = None\n",
    "\n",
    "    return list(zip(merged_tokens, merged_tags))\n"
   ]
  },
  {
   "cell_type": "code",
   "execution_count": 32,
   "id": "94cfa954",
   "metadata": {},
   "outputs": [
    {
     "data": {
      "text/plain": [
       "[('set', 'O'),\n",
       " ('alarm', 'O'),\n",
       " ('on', 'O'),\n",
       " ('19th', 'B-date'),\n",
       " ('december', 'I-date'),\n",
       " ('at', 'O'),\n",
       " ('7', 'B-time'),\n",
       " ('am', 'I-time'),\n",
       " ('for', 'O'),\n",
       " ('meeting', 'B-label'),\n",
       " ('with', 'I-label'),\n",
       " ('john', 'I-label')]"
      ]
     },
     "execution_count": 32,
     "metadata": {},
     "output_type": "execute_result"
    }
   ],
   "source": [
    "predict_ner_bert(\"set alarm on 19th december at 7 am for meeting with john\")\n"
   ]
  },
  {
   "cell_type": "code",
   "execution_count": 33,
   "id": "e2c6dddf",
   "metadata": {},
   "outputs": [
    {
     "data": {
      "text/plain": [
       "('../models\\\\tokenizer_config.json',\n",
       " '../models\\\\special_tokens_map.json',\n",
       " '../models\\\\vocab.txt',\n",
       " '../models\\\\added_tokens.json',\n",
       " '../models\\\\tokenizer.json')"
      ]
     },
     "execution_count": 33,
     "metadata": {},
     "output_type": "execute_result"
    }
   ],
   "source": [
    "model.save_pretrained(\"../models\")\n",
    "tokenizer.save_pretrained(\"../models\")"
   ]
  },
  {
   "cell_type": "code",
   "execution_count": 34,
   "id": "f8ad4f66",
   "metadata": {},
   "outputs": [
    {
     "data": {
      "image/png": "[encoded data removed]",
      "text/plain": [
       "<Figure size 800x500 with 1 Axes>"
      ]
     },
     "metadata": {},
     "output_type": "display_data"
    },
    {
     "data": {
      "image/png": "[encoded data removed]",
      "text/plain": [
       "<Figure size 800x500 with 1 Axes>"
      ]
     },
     "metadata": {},
     "output_type": "display_data"
    }
   ],
   "source": [
    "import matplotlib.pyplot as plt\n",
    "import numpy as np\n",
    "\n",
    "# Extract losses from Trainer's log history\n",
    "train_losses = [x[\"loss\"] for x in trainer.state.log_history if \"loss\" in x]\n",
    "eval_losses = [x[\"eval_loss\"] for x in trainer.state.log_history if \"eval_loss\" in x]\n",
    "\n",
    "# Compute macro F1 per epoch from history\n",
    "macro_f1_history = []\n",
    "num_epochs = len(eval_losses)  # Assume eval at each epoch\n",
    "for i in range(num_epochs):\n",
    "    # Take last precision/recall for each entity at this epoch\n",
    "    f1s = [2 * (history[e]['precision'][i] * history[e]['recall'][i]) /\n",
    "           (history[e]['precision'][i] + history[e]['recall'][i]) \n",
    "           if (history[e]['precision'][i] + history[e]['recall'][i]) > 0 else 0\n",
    "           for e in history if e != \"O\"]\n",
    "    macro_f1_history.append(np.mean(f1s))\n",
    "\n",
    "# ---------------------------\n",
    "# Plot Loss\n",
    "plt.figure(figsize=(8,5))\n",
    "plt.plot(train_losses, marker='o', label=\"Training Loss\")\n",
    "plt.plot(eval_losses, marker='x', label=\"Validation Loss\")\n",
    "plt.xlabel(\"Epoch\")\n",
    "plt.ylabel(\"Loss\")\n",
    "plt.title(\"Training and Validation Loss\")\n",
    "plt.legend()\n",
    "plt.grid(True)\n",
    "plt.show()\n",
    "\n",
    "# ---------------------------\n",
    "# Plot Macro F1\n",
    "plt.figure(figsize=(8,5))\n",
    "plt.plot(macro_f1_history, marker='o', color='green', label=\"Macro F1\")\n",
    "plt.xlabel(\"Epoch\")\n",
    "plt.ylabel(\"Macro F1 Score\")\n",
    "plt.title(\"Macro F1 Over Epochs\")\n",
    "plt.ylim(0, 1.05)\n",
    "plt.grid(True)\n",
    "plt.legend()\n",
    "plt.show()\n"
   ]
  }
 ],
 "metadata": {
  "kernelspec": {
   "display_name": "alarmenv",
   "language": "python",
   "name": "python3"
  },
  "language_info": {
   "codemirror_mode": {
    "name": "ipython",
    "version": 3
   },
   "file_extension": ".py",
   "mimetype": "text/x-python",
   "name": "python",
   "nbconvert_exporter": "python",
   "pygments_lexer": "ipython3",
   "version": "3.13.5"
  }
 },
 "nbformat": 4,
 "nbformat_minor": 5
}
